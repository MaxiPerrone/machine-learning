{
  "nbformat": 4,
  "nbformat_minor": 0,
  "metadata": {
    "colab": {
      "provenance": [],
      "authorship_tag": "ABX9TyOpHysn5ZOrDFl6DeLs+6C/",
      "include_colab_link": true
    },
    "kernelspec": {
      "name": "python3",
      "display_name": "Python 3"
    },
    "language_info": {
      "name": "python"
    }
  },
  "cells": [
    {
      "cell_type": "markdown",
      "metadata": {
        "id": "view-in-github",
        "colab_type": "text"
      },
      "source": [
        "<a href=\"https://colab.research.google.com/github/MaxiPerrone/machine-learning/blob/main/2_Division_conjunto_datos.ipynb\" target=\"_parent\"><img src=\"https://colab.research.google.com/assets/colab-badge.svg\" alt=\"Open In Colab\"/></a>"
      ]
    },
    {
      "cell_type": "code",
      "source": [
        "import pandas as pd\n",
        "import kagglehub\n",
        "import os"
      ],
      "metadata": {
        "id": "ey7sOeo8T_G7"
      },
      "execution_count": 1,
      "outputs": []
    },
    {
      "cell_type": "code",
      "execution_count": 2,
      "metadata": {
        "colab": {
          "base_uri": "https://localhost:8080/"
        },
        "id": "hsTSMoTRTxop",
        "outputId": "09f4ed27-4249-4c65-a9e4-3525b55ab623"
      },
      "outputs": [
        {
          "output_type": "stream",
          "name": "stdout",
          "text": [
            "Using Colab cache for faster access to the 'credit-card-fraud' dataset.\n",
            "Using Colab cache for faster access to the 'credit-card-fraud' dataset.\n"
          ]
        }
      ],
      "source": [
        "dataset_path = kagglehub.dataset_download(\"dhanushnarayananr/credit-card-fraud\")\n",
        "csv_file = os.path.join(dataset_path, \"card_transdata.csv\")"
      ]
    },
    {
      "cell_type": "code",
      "source": [
        "df_orig = pd.read_csv(csv_file);\n",
        "df = df_orig.copy()\n",
        "print(df.head())"
      ],
      "metadata": {
        "colab": {
          "base_uri": "https://localhost:8080/"
        },
        "id": "KcTxdYhKUN3c",
        "outputId": "d4f96aaa-68af-42e4-a632-ed6e89086f4f"
      },
      "execution_count": 33,
      "outputs": [
        {
          "output_type": "stream",
          "name": "stdout",
          "text": [
            "   distance_from_home  distance_from_last_transaction  \\\n",
            "0           57.877857                        0.311140   \n",
            "1           10.829943                        0.175592   \n",
            "2            5.091079                        0.805153   \n",
            "3            2.247564                        5.600044   \n",
            "4           44.190936                        0.566486   \n",
            "\n",
            "   ratio_to_median_purchase_price  repeat_retailer  used_chip  \\\n",
            "0                        1.945940              1.0        1.0   \n",
            "1                        1.294219              1.0        0.0   \n",
            "2                        0.427715              1.0        0.0   \n",
            "3                        0.362663              1.0        1.0   \n",
            "4                        2.222767              1.0        1.0   \n",
            "\n",
            "   used_pin_number  online_order  fraud  \n",
            "0              0.0           0.0    0.0  \n",
            "1              0.0           0.0    0.0  \n",
            "2              0.0           1.0    0.0  \n",
            "3              0.0           1.0    0.0  \n",
            "4              0.0           1.0    0.0  \n"
          ]
        }
      ]
    },
    {
      "cell_type": "code",
      "source": [
        "df.shape"
      ],
      "metadata": {
        "colab": {
          "base_uri": "https://localhost:8080/"
        },
        "id": "tvmmy3OmVLKF",
        "outputId": "5becb84f-e441-41a5-d21b-5f97f406b9eb"
      },
      "execution_count": 34,
      "outputs": [
        {
          "output_type": "execute_result",
          "data": {
            "text/plain": [
              "(1000000, 8)"
            ]
          },
          "metadata": {},
          "execution_count": 34
        }
      ]
    },
    {
      "cell_type": "code",
      "source": [
        "df.info()"
      ],
      "metadata": {
        "colab": {
          "base_uri": "https://localhost:8080/"
        },
        "id": "_uQkgdrqVSep",
        "outputId": "af66e70e-9d1e-4740-acad-a0bfff77fb5e"
      },
      "execution_count": 35,
      "outputs": [
        {
          "output_type": "stream",
          "name": "stdout",
          "text": [
            "<class 'pandas.core.frame.DataFrame'>\n",
            "RangeIndex: 1000000 entries, 0 to 999999\n",
            "Data columns (total 8 columns):\n",
            " #   Column                          Non-Null Count    Dtype  \n",
            "---  ------                          --------------    -----  \n",
            " 0   distance_from_home              1000000 non-null  float64\n",
            " 1   distance_from_last_transaction  1000000 non-null  float64\n",
            " 2   ratio_to_median_purchase_price  1000000 non-null  float64\n",
            " 3   repeat_retailer                 1000000 non-null  float64\n",
            " 4   used_chip                       1000000 non-null  float64\n",
            " 5   used_pin_number                 1000000 non-null  float64\n",
            " 6   online_order                    1000000 non-null  float64\n",
            " 7   fraud                           1000000 non-null  float64\n",
            "dtypes: float64(8)\n",
            "memory usage: 61.0 MB\n"
          ]
        }
      ]
    },
    {
      "cell_type": "code",
      "source": [
        "from sklearn.model_selection import train_test_split\n",
        "\n",
        "train_set, test_set = train_test_split(df, test_size=0.4, random_state=42)"
      ],
      "metadata": {
        "id": "KYfln6G2VY2Y"
      },
      "execution_count": 36,
      "outputs": []
    },
    {
      "cell_type": "code",
      "source": [
        "print(len(train_set))\n",
        "print(len(test_set))"
      ],
      "metadata": {
        "colab": {
          "base_uri": "https://localhost:8080/"
        },
        "id": "hCD219QaV22h",
        "outputId": "774c2a5d-53d9-4cbd-c317-d03d25f6626f"
      },
      "execution_count": 37,
      "outputs": [
        {
          "output_type": "stream",
          "name": "stdout",
          "text": [
            "600000\n",
            "400000\n"
          ]
        }
      ]
    },
    {
      "cell_type": "code",
      "source": [
        "test_set, val_set = train_test_split(test_set, test_size=0.5, random_state=42)"
      ],
      "metadata": {
        "id": "2Sio-7yYWI4I"
      },
      "execution_count": 38,
      "outputs": []
    },
    {
      "cell_type": "code",
      "source": [
        "print(\"Training set length: \", len(train_set))\n",
        "print(\"Testing set length: \", len(test_set))\n",
        "print(\"Validation set length: \", len(val_set))"
      ],
      "metadata": {
        "colab": {
          "base_uri": "https://localhost:8080/"
        },
        "id": "qBMkWqyxWZyj",
        "outputId": "d97672da-7a4f-4f3e-db12-d106f07b68b5"
      },
      "execution_count": 39,
      "outputs": [
        {
          "output_type": "stream",
          "name": "stdout",
          "text": [
            "Training set length:  600000\n",
            "Testing set length:  200000\n",
            "Validation set length:  200000\n"
          ]
        }
      ]
    },
    {
      "cell_type": "code",
      "source": [
        "import numpy as np\n",
        "\n",
        "df['card_type'] = np.random.choice(['debit', 'credit', 'prepaid'], size=len(df), p=[0.7, 0.2, 0.1])"
      ],
      "metadata": {
        "id": "qqI6FkVCcTDg"
      },
      "execution_count": 40,
      "outputs": []
    },
    {
      "cell_type": "code",
      "source": [
        "df['card_type'].value_counts()"
      ],
      "metadata": {
        "colab": {
          "base_uri": "https://localhost:8080/",
          "height": 209
        },
        "id": "-o1B-jU8b6gV",
        "outputId": "3e09ee23-49cd-42c1-83f9-1199af303905"
      },
      "execution_count": 41,
      "outputs": [
        {
          "output_type": "execute_result",
          "data": {
            "text/plain": [
              "card_type\n",
              "debit      699966\n",
              "credit     199844\n",
              "prepaid    100190\n",
              "Name: count, dtype: int64"
            ],
            "text/html": [
              "<div>\n",
              "<style scoped>\n",
              "    .dataframe tbody tr th:only-of-type {\n",
              "        vertical-align: middle;\n",
              "    }\n",
              "\n",
              "    .dataframe tbody tr th {\n",
              "        vertical-align: top;\n",
              "    }\n",
              "\n",
              "    .dataframe thead th {\n",
              "        text-align: right;\n",
              "    }\n",
              "</style>\n",
              "<table border=\"1\" class=\"dataframe\">\n",
              "  <thead>\n",
              "    <tr style=\"text-align: right;\">\n",
              "      <th></th>\n",
              "      <th>count</th>\n",
              "    </tr>\n",
              "    <tr>\n",
              "      <th>card_type</th>\n",
              "      <th></th>\n",
              "    </tr>\n",
              "  </thead>\n",
              "  <tbody>\n",
              "    <tr>\n",
              "      <th>debit</th>\n",
              "      <td>699966</td>\n",
              "    </tr>\n",
              "    <tr>\n",
              "      <th>credit</th>\n",
              "      <td>199844</td>\n",
              "    </tr>\n",
              "    <tr>\n",
              "      <th>prepaid</th>\n",
              "      <td>100190</td>\n",
              "    </tr>\n",
              "  </tbody>\n",
              "</table>\n",
              "</div><br><label><b>dtype:</b> int64</label>"
            ]
          },
          "metadata": {},
          "execution_count": 41
        }
      ]
    },
    {
      "cell_type": "code",
      "source": [
        "def train_val_test_split(df, rstate=42, shuffle=True, stratify=None):\n",
        "  strat = df[stratify] if stratify else None\n",
        "  train_set, test_set = train_test_split(\n",
        "    df, test_size=0.4, random_state=rstate, shuffle=shuffle, stratify=strat)\n",
        "  strat = test_set[stratify] if stratify else None\n",
        "  val_set, test_set = train_test_split(\n",
        "    test_set, test_size=0.5, random_state=rstate, shuffle=shuffle, stratify=strat)\n",
        "  return (train_set, val_set, test_set)"
      ],
      "metadata": {
        "id": "jCFsE6gVX2RD"
      },
      "execution_count": 42,
      "outputs": []
    },
    {
      "cell_type": "code",
      "source": [
        "train_set, val_set, test_set = train_val_test_split(df, stratify='card_type')"
      ],
      "metadata": {
        "id": "JutyP-DKZluH"
      },
      "execution_count": 43,
      "outputs": []
    },
    {
      "cell_type": "code",
      "source": [
        "print(\"Training set length: \", len(train_set))\n",
        "print(\"Testing set length: \", len(test_set))\n",
        "print(\"Validation set length: \", len(val_set))"
      ],
      "metadata": {
        "colab": {
          "base_uri": "https://localhost:8080/"
        },
        "id": "7SxK7YyzaMJx",
        "outputId": "9ddd8c35-c508-4406-e774-1c1aa63db726"
      },
      "execution_count": 44,
      "outputs": [
        {
          "output_type": "stream",
          "name": "stdout",
          "text": [
            "Training set length:  600000\n",
            "Testing set length:  200000\n",
            "Validation set length:  200000\n"
          ]
        }
      ]
    },
    {
      "cell_type": "code",
      "source": [
        "df['card_type'].hist()"
      ],
      "metadata": {
        "colab": {
          "base_uri": "https://localhost:8080/",
          "height": 447
        },
        "id": "kgjDVUNmdRMG",
        "outputId": "6ada7d03-d548-4efb-c1bc-f29012a0fdb8"
      },
      "execution_count": 47,
      "outputs": [
        {
          "output_type": "execute_result",
          "data": {
            "text/plain": [
              "<Axes: >"
            ]
          },
          "metadata": {},
          "execution_count": 47
        },
        {
          "output_type": "display_data",
          "data": {
            "text/plain": [
              "<Figure size 640x480 with 1 Axes>"
            ],
            "image/png": "[encoded data removed]"
          },
          "metadata": {}
        }
      ]
    },
    {
      "cell_type": "code",
      "source": [
        "train_set['card_type'].hist()"
      ],
      "metadata": {
        "colab": {
          "base_uri": "https://localhost:8080/",
          "height": 447
        },
        "id": "ywR1htZedmns",
        "outputId": "a0b8b14f-1b2b-4ede-98e3-9fed44c7712e"
      },
      "execution_count": 48,
      "outputs": [
        {
          "output_type": "execute_result",
          "data": {
            "text/plain": [
              "<Axes: >"
            ]
          },
          "metadata": {},
          "execution_count": 48
        },
        {
          "output_type": "display_data",
          "data": {
            "text/plain": [
              "<Figure size 640x480 with 1 Axes>"
            ],
            "image/png": "[encoded data removed]"
          },
          "metadata": {}
        }
      ]
    },
    {
      "cell_type": "code",
      "source": [
        "test_set['card_type'].hist()"
      ],
      "metadata": {
        "colab": {
          "base_uri": "https://localhost:8080/",
          "height": 447
        },
        "id": "dPfkm2rKdxlJ",
        "outputId": "d83e0626-f268-4720-f094-39a53fb4c051"
      },
      "execution_count": 49,
      "outputs": [
        {
          "output_type": "execute_result",
          "data": {
            "text/plain": [
              "<Axes: >"
            ]
          },
          "metadata": {},
          "execution_count": 49
        },
        {
          "output_type": "display_data",
          "data": {
            "text/plain": [
              "<Figure size 640x480 with 1 Axes>"
            ],
            "image/png": "[encoded data removed]"
          },
          "metadata": {}
        }
      ]
    },
    {
      "cell_type": "code",
      "source": [
        "val_set['card_type'].hist()"
      ],
      "metadata": {
        "colab": {
          "base_uri": "https://localhost:8080/",
          "height": 447
        },
        "id": "3BT4fotNdzTo",
        "outputId": "24264497-fefe-42ee-e29c-549fb85a31d6"
      },
      "execution_count": 50,
      "outputs": [
        {
          "output_type": "execute_result",
          "data": {
            "text/plain": [
              "<Axes: >"
            ]
          },
          "metadata": {},
          "execution_count": 50
        },
        {
          "output_type": "display_data",
          "data": {
            "text/plain": [
              "<Figure size 640x480 with 1 Axes>"
            ],
            "image/png": "[encoded data removed]"
          },
          "metadata": {}
        }
      ]
    }
  ]
}